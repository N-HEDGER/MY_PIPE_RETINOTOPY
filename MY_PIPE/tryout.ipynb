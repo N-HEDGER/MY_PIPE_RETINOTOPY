{
 "cells": [
  {
   "cell_type": "code",
   "execution_count": 3,
   "metadata": {},
   "outputs": [],
   "source": [
    "def findgiftis(FOLDER, ext):\n",
    "\n",
    "    # Function goal: return nifti files within a directory\n",
    "\n",
    "    # Detail: could be used for a file with any extension...\n",
    "\n",
    "    # Inputs\n",
    "\n",
    "    # FOLDER (directory to search)\n",
    "    # ext (the suffix (.gii or .gii.gz))\n",
    "\n",
    "    def fprintf(stream, format_spec, *args):\n",
    "        stream.write(format_spec % args)\n",
    "    import os\n",
    "    import sys\n",
    "    giftilist = list()\n",
    "    for file in os.listdir(FOLDER):\n",
    "        if not file.startswith('.') and file.endswith(ext):\n",
    "            giftilist.append(os.path.join(FOLDER, file))\n",
    "    fprintf(sys.stdout, \"Found %d gifti files \\n\", len(giftilist))\n",
    "    return(sorted(giftilist))"
   ]
  },
  {
   "cell_type": "code",
   "execution_count": 4,
   "metadata": {},
   "outputs": [],
   "source": [
    "def make_gifti_list(base_folder, sessionstring, space):\n",
    "\n",
    "    def fprintf(stream, format_spec, *args):\n",
    "        stream.write(format_spec % args)\n",
    "\n",
    "    import os\n",
    "    import sys\n",
    "    sessionlist = list()\n",
    "    for session in os.listdir(base_folder):\n",
    "        if not session.startswith('.') and session.startswith(tuple(sessionstring)):\n",
    "            sessionlist.append(os.path.join(base_folder, session))\n",
    "    fprintf(sys.stdout, \"Found %d sessions \\n\", len(sessionlist))\n",
    "\n",
    "    gifts = []\n",
    "\n",
    "    for sess in sorted(sessionlist):\n",
    "        gifts.append(findgiftis(os.path.join(sess, 'func'), '.gii'))\n",
    "\n",
    "    flatgifts = []\n",
    "\n",
    "    for sublist in gifts:\n",
    "        for item in sublist:\n",
    "            flatgifts.append(item)\n",
    "\n",
    "    leftgifts = [gift for gift in flatgifts if space + \"_hemi-L\" in(gift)]\n",
    "    rightgifts = [gift for gift in flatgifts if space + \"_hemi-R\" in(gift)]\n",
    "\n",
    "    return leftgifts, rightgifts, gifts, flatgifts"
   ]
  },
  {
   "cell_type": "code",
   "execution_count": 5,
   "metadata": {},
   "outputs": [
    {
     "name": "stdout",
     "output_type": "stream",
     "text": [
      "Found 4 sessions \n",
      "Found 52 gifti files \n",
      "Found 32 gifti files \n",
      "Found 40 gifti files \n",
      "Found 60 gifti files \n"
     ]
    }
   ],
   "source": [
    "mygifts=make_gifti_list('/Volumes/BAHAMUT/ALL_PRF_DAT/BIGRUN/derivatives/fmriprep/sub-02','ses','fsaverage')"
   ]
  },
  {
   "cell_type": "code",
   "execution_count": 7,
   "metadata": {},
   "outputs": [],
   "source": [
    "from nilearn import surface\n",
    "\n",
    "from joblib import Parallel, delayed"
   ]
  },
  {
   "cell_type": "code",
   "execution_count": 13,
   "metadata": {},
   "outputs": [
    {
     "data": {
      "text/plain": [
       "numpy.ndarray"
      ]
     },
     "execution_count": 13,
     "metadata": {},
     "output_type": "execute_result"
    }
   ],
   "source": [
    "x=surface.load_surf_data(mygifts[0][0]).astype('float16')\n",
    "type(x)"
   ]
  },
  {
   "cell_type": "code",
   "execution_count": 14,
   "metadata": {},
   "outputs": [
    {
     "data": {
      "text/plain": [
       "array([0., 0., 0., 0., 0., 0., 0., 0., 0., 0., 0., 0., 0., 0., 0., 0., 0.,\n",
       "       0., 0., 0., 0., 0., 0., 0., 0., 0., 0., 0., 0., 0., 0., 0., 0., 0.,\n",
       "       0., 0., 0., 0., 0., 0., 0., 0., 0., 0., 0., 0., 0., 0., 0., 0., 0.,\n",
       "       0., 0., 0., 0., 0., 0., 0., 0., 0., 0., 0., 0., 0., 0., 0., 0., 0.,\n",
       "       0., 0., 0., 0., 0., 0., 0., 0., 0., 0., 0., 0., 0., 0., 0., 0., 0.,\n",
       "       0., 0., 0., 0., 0., 0., 0., 0., 0., 0., 0., 0., 0., 0., 0., 0., 0.,\n",
       "       0., 0., 0., 0., 0., 0., 0., 0., 0., 0., 0., 0., 0., 0., 0., 0., 0.,\n",
       "       0.], dtype=float16)"
      ]
     },
     "execution_count": 14,
     "metadata": {},
     "output_type": "execute_result"
    }
   ],
   "source": [
    "x[0]"
   ]
  },
  {
   "cell_type": "code",
   "execution_count": 15,
   "metadata": {},
   "outputs": [],
   "source": [
    "from nilearn import surface\n",
    "\n",
    "from joblib import Parallel, delayed"
   ]
  },
  {
   "cell_type": "code",
   "execution_count": 26,
   "metadata": {},
   "outputs": [],
   "source": [
    "def import_surf_astype(fn,fmt):\n",
    "    impt=surface.load_surf_data(fn).astype(fmt)\n",
    "    return impt"
   ]
  },
  {
   "cell_type": "code",
   "execution_count": 28,
   "metadata": {},
   "outputs": [],
   "source": [
    "def import_gifts(flist, procs,fmt):\n",
    "    gifts = Parallel(n_jobs=procs, verbose=9)(delayed(import_surf_astype)(fn,fmt) for fn in flist)\n",
    "    return gifts"
   ]
  },
  {
   "cell_type": "code",
   "execution_count": 29,
   "metadata": {},
   "outputs": [
    {
     "name": "stderr",
     "output_type": "stream",
     "text": [
      "[Parallel(n_jobs=5)]: Using backend LokyBackend with 5 concurrent workers.\n",
      "[Parallel(n_jobs=5)]: Done   8 tasks      | elapsed:    9.7s\n",
      "[Parallel(n_jobs=5)]: Done  22 tasks      | elapsed:   29.6s\n",
      "[Parallel(n_jobs=5)]: Done  43 out of  46 | elapsed:   55.8s remaining:    3.9s\n",
      "[Parallel(n_jobs=5)]: Done  46 out of  46 | elapsed:   58.3s finished\n"
     ]
    }
   ],
   "source": [
    "Lgifts=import_gifts(mygifts[0],5,'float32')"
   ]
  },
  {
   "cell_type": "code",
   "execution_count": 43,
   "metadata": {},
   "outputs": [
    {
     "data": {
      "text/plain": [
       "numpy.float32"
      ]
     },
     "execution_count": 43,
     "metadata": {},
     "output_type": "execute_result"
    }
   ],
   "source": [
    "type(Lgifts[45][0,0])"
   ]
  },
  {
   "cell_type": "code",
   "execution_count": null,
   "metadata": {},
   "outputs": [],
   "source": []
  }
 ],
 "metadata": {
  "kernelspec": {
   "display_name": "Python 3",
   "language": "python",
   "name": "python3"
  },
  "language_info": {
   "codemirror_mode": {
    "name": "ipython",
    "version": 3
   },
   "file_extension": ".py",
   "mimetype": "text/x-python",
   "name": "python",
   "nbconvert_exporter": "python",
   "pygments_lexer": "ipython3",
   "version": "3.6.10"
  }
 },
 "nbformat": 4,
 "nbformat_minor": 4
}
